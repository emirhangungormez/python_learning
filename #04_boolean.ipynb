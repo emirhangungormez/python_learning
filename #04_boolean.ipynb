{
 "cells": [
  {
   "cell_type": "code",
   "execution_count": 1,
   "id": "b7c13eb6",
   "metadata": {},
   "outputs": [],
   "source": [
    "x = True"
   ]
  },
  {
   "cell_type": "code",
   "execution_count": 2,
   "id": "71f1e5da",
   "metadata": {},
   "outputs": [
    {
     "data": {
      "text/plain": [
       "bool"
      ]
     },
     "execution_count": 2,
     "metadata": {},
     "output_type": "execute_result"
    }
   ],
   "source": [
    "type(x)"
   ]
  },
  {
   "cell_type": "code",
   "execution_count": 3,
   "id": "9e519adb",
   "metadata": {},
   "outputs": [],
   "source": [
    "y = \"emir\""
   ]
  },
  {
   "cell_type": "code",
   "execution_count": 4,
   "id": "8a065c4c",
   "metadata": {},
   "outputs": [
    {
     "data": {
      "text/plain": [
       "True"
      ]
     },
     "execution_count": 4,
     "metadata": {},
     "output_type": "execute_result"
    }
   ],
   "source": [
    "y.islower() #tüm harfler küçük mü? kontrol eder."
   ]
  },
  {
   "cell_type": "code",
   "execution_count": 5,
   "id": "67fc7350",
   "metadata": {},
   "outputs": [
    {
     "data": {
      "text/plain": [
       "False"
      ]
     },
     "execution_count": 5,
     "metadata": {},
     "output_type": "execute_result"
    }
   ],
   "source": [
    "3 < 2"
   ]
  },
  {
   "cell_type": "code",
   "execution_count": 6,
   "id": "b971c9c2",
   "metadata": {},
   "outputs": [
    {
     "data": {
      "text/plain": [
       "True"
      ]
     },
     "execution_count": 6,
     "metadata": {},
     "output_type": "execute_result"
    }
   ],
   "source": [
    "3 > 2"
   ]
  },
  {
   "cell_type": "code",
   "execution_count": 7,
   "id": "7eaf4a63",
   "metadata": {},
   "outputs": [],
   "source": [
    "not_listesi = [100,90,50,40,70,10]"
   ]
  },
  {
   "cell_type": "code",
   "execution_count": 13,
   "id": "024a19e2",
   "metadata": {},
   "outputs": [
    {
     "data": {
      "text/plain": [
       "360"
      ]
     },
     "execution_count": 13,
     "metadata": {},
     "output_type": "execute_result"
    }
   ],
   "source": [
    "sum(not_listesi) #içerisindeki elemanları toplar."
   ]
  },
  {
   "cell_type": "code",
   "execution_count": 12,
   "id": "c060cf83",
   "metadata": {},
   "outputs": [
    {
     "data": {
      "text/plain": [
       "60.0"
      ]
     },
     "execution_count": 12,
     "metadata": {},
     "output_type": "execute_result"
    }
   ],
   "source": [
    "ortalama = sum(not_listesi) / len(not_listesi)\n",
    "ortalama"
   ]
  },
  {
   "cell_type": "code",
   "execution_count": 14,
   "id": "8c02cab1",
   "metadata": {},
   "outputs": [
    {
     "data": {
      "text/plain": [
       "True"
      ]
     },
     "execution_count": 14,
     "metadata": {},
     "output_type": "execute_result"
    }
   ],
   "source": [
    "not_listesi[0] > ortalama"
   ]
  },
  {
   "cell_type": "code",
   "execution_count": 15,
   "id": "143c5693",
   "metadata": {},
   "outputs": [
    {
     "data": {
      "text/plain": [
       "False"
      ]
     },
     "execution_count": 15,
     "metadata": {},
     "output_type": "execute_result"
    }
   ],
   "source": [
    " 5 <= 3"
   ]
  },
  {
   "cell_type": "code",
   "execution_count": 16,
   "id": "5064a5a0",
   "metadata": {},
   "outputs": [
    {
     "data": {
      "text/plain": [
       "True"
      ]
     },
     "execution_count": 16,
     "metadata": {},
     "output_type": "execute_result"
    }
   ],
   "source": [
    "5 <= 5"
   ]
  },
  {
   "cell_type": "code",
   "execution_count": 18,
   "id": "64322367",
   "metadata": {},
   "outputs": [
    {
     "data": {
      "text/plain": [
       "False"
      ]
     },
     "execution_count": 18,
     "metadata": {},
     "output_type": "execute_result"
    }
   ],
   "source": [
    "4 >= 6"
   ]
  },
  {
   "cell_type": "code",
   "execution_count": 19,
   "id": "8dcd93fb",
   "metadata": {},
   "outputs": [
    {
     "data": {
      "text/plain": [
       "True"
      ]
     },
     "execution_count": 19,
     "metadata": {},
     "output_type": "execute_result"
    }
   ],
   "source": [
    "5 == 5 #eşit mi? kontrol eder."
   ]
  },
  {
   "cell_type": "code",
   "execution_count": 20,
   "id": "0e86aa22",
   "metadata": {},
   "outputs": [
    {
     "data": {
      "text/plain": [
       "True"
      ]
     },
     "execution_count": 20,
     "metadata": {},
     "output_type": "execute_result"
    }
   ],
   "source": [
    "5 != 4 #eşit değil mi? kontrol eder."
   ]
  },
  {
   "cell_type": "code",
   "execution_count": 21,
   "id": "880ea721",
   "metadata": {},
   "outputs": [],
   "source": [
    "# ve (and), veya (or)"
   ]
  },
  {
   "cell_type": "code",
   "execution_count": 22,
   "id": "f79b2a3a",
   "metadata": {},
   "outputs": [
    {
     "data": {
      "text/plain": [
       "True"
      ]
     },
     "execution_count": 22,
     "metadata": {},
     "output_type": "execute_result"
    }
   ],
   "source": [
    "3>1 and 3>2"
   ]
  },
  {
   "cell_type": "code",
   "execution_count": 23,
   "id": "d7040611",
   "metadata": {},
   "outputs": [
    {
     "data": {
      "text/plain": [
       "True"
      ]
     },
     "execution_count": 23,
     "metadata": {},
     "output_type": "execute_result"
    }
   ],
   "source": [
    "3>1 or 3<2"
   ]
  }
 ],
 "metadata": {
  "kernelspec": {
   "display_name": "Python 3 (ipykernel)",
   "language": "python",
   "name": "python3"
  },
  "language_info": {
   "codemirror_mode": {
    "name": "ipython",
    "version": 3
   },
   "file_extension": ".py",
   "mimetype": "text/x-python",
   "name": "python",
   "nbconvert_exporter": "python",
   "pygments_lexer": "ipython3",
   "version": "3.9.7"
  }
 },
 "nbformat": 4,
 "nbformat_minor": 5
}
