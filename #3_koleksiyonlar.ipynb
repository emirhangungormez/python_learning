{
 "cells": [
  {
   "cell_type": "code",
   "execution_count": 2,
   "id": "5fa1c275",
   "metadata": {},
   "outputs": [
    {
     "data": {
      "text/plain": [
       "1"
      ]
     },
     "execution_count": 2,
     "metadata": {},
     "output_type": "execute_result"
    }
   ],
   "source": [
    "liste = [1,2,3,4]\n",
    "liste[0]"
   ]
  },
  {
   "cell_type": "markdown",
   "id": "7401ce12",
   "metadata": {},
   "source": [
    "Dictonary, Sözlük. key-value pairing (anahtar kelime - değer eşleşmesi)"
   ]
  },
  {
   "cell_type": "code",
   "execution_count": 3,
   "id": "77accecb",
   "metadata": {},
   "outputs": [],
   "source": [
    "yemeklerim = [\"elma\",\"armut\",\"karpuz\"]"
   ]
  },
  {
   "cell_type": "code",
   "execution_count": 4,
   "id": "721645cc",
   "metadata": {},
   "outputs": [],
   "source": [
    "kalorilerim = [100,200,300]"
   ]
  },
  {
   "cell_type": "code",
   "execution_count": 6,
   "id": "3a4ef7d0",
   "metadata": {},
   "outputs": [
    {
     "data": {
      "text/plain": [
       "'deger'"
      ]
     },
     "execution_count": 6,
     "metadata": {},
     "output_type": "execute_result"
    }
   ],
   "source": [
    "sozluk = {\"anahtarkelime\": \"deger\"}\n",
    "sozluk[\"anahtarkelime\"]"
   ]
  },
  {
   "cell_type": "code",
   "execution_count": 7,
   "id": "6ec4dca6",
   "metadata": {},
   "outputs": [],
   "source": [
    "benim_kalori_yemek_sozlugum = {\"elma\":100, \"armut\":200, \"karpuz\":300}"
   ]
  },
  {
   "cell_type": "code",
   "execution_count": 8,
   "id": "c1500a9c",
   "metadata": {},
   "outputs": [
    {
     "data": {
      "text/plain": [
       "100"
      ]
     },
     "execution_count": 8,
     "metadata": {},
     "output_type": "execute_result"
    }
   ],
   "source": [
    "benim_kalori_yemek_sozlugum[\"elma\"]"
   ]
  },
  {
   "cell_type": "code",
   "execution_count": 9,
   "id": "fbee4ac2",
   "metadata": {},
   "outputs": [
    {
     "data": {
      "text/plain": [
       "200"
      ]
     },
     "execution_count": 9,
     "metadata": {},
     "output_type": "execute_result"
    }
   ],
   "source": [
    "benim_kalori_yemek_sozlugum[\"armut\"]"
   ]
  },
  {
   "cell_type": "code",
   "execution_count": 10,
   "id": "ae7c48a3",
   "metadata": {},
   "outputs": [
    {
     "data": {
      "text/plain": [
       "dict"
      ]
     },
     "execution_count": 10,
     "metadata": {},
     "output_type": "execute_result"
    }
   ],
   "source": [
    "type(benim_kalori_yemek_sozlugum)"
   ]
  },
  {
   "cell_type": "code",
   "execution_count": 12,
   "id": "a10c1225",
   "metadata": {},
   "outputs": [
    {
     "data": {
      "text/plain": [
       "dict_items([('elma', 100), ('armut', 200), ('karpuz', 300)])"
      ]
     },
     "execution_count": 12,
     "metadata": {},
     "output_type": "execute_result"
    }
   ],
   "source": [
    "benim_kalori_yemek_sozlugum.items()"
   ]
  },
  {
   "cell_type": "code",
   "execution_count": 14,
   "id": "e779ed90",
   "metadata": {},
   "outputs": [
    {
     "data": {
      "text/plain": [
       "dict_values([100, 200, 300])"
      ]
     },
     "execution_count": 14,
     "metadata": {},
     "output_type": "execute_result"
    }
   ],
   "source": [
    "benim_kalori_yemek_sozlugum.values() #değerleri gösterir."
   ]
  },
  {
   "cell_type": "code",
   "execution_count": 15,
   "id": "beda52be",
   "metadata": {},
   "outputs": [
    {
     "data": {
      "text/plain": [
       "dict_keys(['elma', 'armut', 'karpuz'])"
      ]
     },
     "execution_count": 15,
     "metadata": {},
     "output_type": "execute_result"
    }
   ],
   "source": [
    "benim_kalori_yemek_sozlugum.keys() #anahtar kelimeleri gösterir."
   ]
  },
  {
   "cell_type": "code",
   "execution_count": 16,
   "id": "aa27e692",
   "metadata": {},
   "outputs": [],
   "source": [
    "benim_kalori_yemek_sozlugum[\"uzum\"] = 400 #ekleme yapılır."
   ]
  },
  {
   "cell_type": "code",
   "execution_count": 17,
   "id": "f54ec09c",
   "metadata": {},
   "outputs": [
    {
     "data": {
      "text/plain": [
       "{'elma': 100, 'armut': 200, 'karpuz': 300, 'uzum': 400}"
      ]
     },
     "execution_count": 17,
     "metadata": {},
     "output_type": "execute_result"
    }
   ],
   "source": [
    "benim_kalori_yemek_sozlugum"
   ]
  },
  {
   "cell_type": "code",
   "execution_count": 18,
   "id": "bf41ac35",
   "metadata": {},
   "outputs": [
    {
     "data": {
      "text/plain": [
       "100"
      ]
     },
     "execution_count": 18,
     "metadata": {},
     "output_type": "execute_result"
    }
   ],
   "source": [
    "benim_kalori_yemek_sozlugum[\"elma\"]"
   ]
  },
  {
   "cell_type": "code",
   "execution_count": 19,
   "id": "6ff5583d",
   "metadata": {},
   "outputs": [],
   "source": [
    "karısık_sozluk = {\"anahtar\":100 , 20:\"deger\"}"
   ]
  },
  {
   "cell_type": "code",
   "execution_count": 20,
   "id": "b5035e7c",
   "metadata": {},
   "outputs": [
    {
     "data": {
      "text/plain": [
       "'deger'"
      ]
     },
     "execution_count": 20,
     "metadata": {},
     "output_type": "execute_result"
    }
   ],
   "source": [
    "karısık_sozluk[20]"
   ]
  },
  {
   "cell_type": "code",
   "execution_count": 21,
   "id": "b1b0feab",
   "metadata": {},
   "outputs": [],
   "source": [
    "#Set -> içerisinde tekil eleman bulunduran yapılar"
   ]
  },
  {
   "cell_type": "code",
   "execution_count": 22,
   "id": "4f5bf22c",
   "metadata": {},
   "outputs": [
    {
     "data": {
      "text/plain": [
       "[1, 2, 3, 4, 1, 2, 3]"
      ]
     },
     "execution_count": 22,
     "metadata": {},
     "output_type": "execute_result"
    }
   ],
   "source": [
    "liste = [1,2,3,4,1,2,3]\n",
    "liste"
   ]
  },
  {
   "cell_type": "code",
   "execution_count": 23,
   "id": "9ee24cc9",
   "metadata": {},
   "outputs": [
    {
     "data": {
      "text/plain": [
       "{1, 2, 3, 4}"
      ]
     },
     "execution_count": 23,
     "metadata": {},
     "output_type": "execute_result"
    }
   ],
   "source": [
    "set_hali = set(liste) #tekil değerlere ulaşırız.\n",
    "set_hali "
   ]
  },
  {
   "cell_type": "code",
   "execution_count": 24,
   "id": "741c6be7",
   "metadata": {},
   "outputs": [],
   "source": [
    " #Tuple -> değiştirilemeyen liste."
   ]
  },
  {
   "cell_type": "code",
   "execution_count": 25,
   "id": "8cdd567a",
   "metadata": {},
   "outputs": [],
   "source": [
    "normal_liste = [1,2,3,\"c\"]"
   ]
  },
  {
   "cell_type": "code",
   "execution_count": 26,
   "id": "26698604",
   "metadata": {},
   "outputs": [],
   "source": [
    "normal_liste.append(6)"
   ]
  },
  {
   "cell_type": "code",
   "execution_count": 27,
   "id": "7b1eef25",
   "metadata": {},
   "outputs": [],
   "source": [
    "normal_liste[0] = 100"
   ]
  },
  {
   "cell_type": "code",
   "execution_count": 28,
   "id": "37d33d8a",
   "metadata": {},
   "outputs": [
    {
     "data": {
      "text/plain": [
       "[100, 2, 3, 'c', 6]"
      ]
     },
     "execution_count": 28,
     "metadata": {},
     "output_type": "execute_result"
    }
   ],
   "source": [
    "normal_liste #listemiz yukarıdaki komutların hepsini destekler."
   ]
  },
  {
   "cell_type": "code",
   "execution_count": 29,
   "id": "65550002",
   "metadata": {},
   "outputs": [],
   "source": [
    "tuple_liste = (1,2,3,\"c\") "
   ]
  },
  {
   "cell_type": "code",
   "execution_count": 32,
   "id": "9102979e",
   "metadata": {},
   "outputs": [
    {
     "data": {
      "text/plain": [
       "tuple"
      ]
     },
     "execution_count": 32,
     "metadata": {},
     "output_type": "execute_result"
    }
   ],
   "source": [
    "type(tuple_liste) #liste değiştirilemez."
   ]
  },
  {
   "cell_type": "code",
   "execution_count": 33,
   "id": "8cd4ed26",
   "metadata": {},
   "outputs": [],
   "source": [
    "normal_liste = list(tuple_liste) #bu yöntemle tuple liste değeri değiştirilebilir."
   ]
  }
 ],
 "metadata": {
  "kernelspec": {
   "display_name": "Python 3 (ipykernel)",
   "language": "python",
   "name": "python3"
  },
  "language_info": {
   "codemirror_mode": {
    "name": "ipython",
    "version": 3
   },
   "file_extension": ".py",
   "mimetype": "text/x-python",
   "name": "python",
   "nbconvert_exporter": "python",
   "pygments_lexer": "ipython3",
   "version": "3.9.7"
  }
 },
 "nbformat": 4,
 "nbformat_minor": 5
}
