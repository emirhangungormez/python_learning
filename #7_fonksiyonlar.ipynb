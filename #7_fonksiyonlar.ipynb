{
 "cells": [
  {
   "cell_type": "code",
   "execution_count": 1,
   "id": "a74e59e0",
   "metadata": {},
   "outputs": [],
   "source": [
    "benim_string = \"emirhan güngörmez\""
   ]
  },
  {
   "cell_type": "code",
   "execution_count": 2,
   "id": "3aae73ea",
   "metadata": {},
   "outputs": [
    {
     "name": "stdout",
     "output_type": "stream",
     "text": [
      "Help on built-in function upper:\n",
      "\n",
      "upper() method of builtins.str instance\n",
      "    Return a copy of the string converted to uppercase.\n",
      "\n"
     ]
    }
   ],
   "source": [
    "help(benim_string.upper)"
   ]
  },
  {
   "cell_type": "code",
   "execution_count": 3,
   "id": "6e2f3973",
   "metadata": {},
   "outputs": [],
   "source": [
    "#fonksiyon"
   ]
  },
  {
   "cell_type": "code",
   "execution_count": 4,
   "id": "3caf3269",
   "metadata": {},
   "outputs": [],
   "source": [
    "def enBasitFonksiyon():\n",
    "    print(\"en basit fonksiyonum çalıştırıldı\")"
   ]
  },
  {
   "cell_type": "code",
   "execution_count": 5,
   "id": "d6738a6a",
   "metadata": {},
   "outputs": [
    {
     "name": "stdout",
     "output_type": "stream",
     "text": [
      "en basit fonksiyonum çalıştırıldı\n"
     ]
    }
   ],
   "source": [
    "enBasitFonksiyon()"
   ]
  },
  {
   "cell_type": "code",
   "execution_count": 6,
   "id": "7176b53d",
   "metadata": {},
   "outputs": [],
   "source": [
    "def birazDahaZorFonksiyon():\n",
    "    x = 5\n",
    "    x = x + 1\n",
    "    print(f\"x'in güncel değeri: {x}\")"
   ]
  },
  {
   "cell_type": "code",
   "execution_count": 7,
   "id": "a42afefc",
   "metadata": {},
   "outputs": [
    {
     "name": "stdout",
     "output_type": "stream",
     "text": [
      "x'in güncel değeri: 6\n"
     ]
    }
   ],
   "source": [
    "birazDahaZorFonksiyon()"
   ]
  },
  {
   "cell_type": "code",
   "execution_count": 8,
   "id": "6f2a8ed6",
   "metadata": {},
   "outputs": [],
   "source": [
    "#input & return"
   ]
  },
  {
   "cell_type": "code",
   "execution_count": 9,
   "id": "be206b1e",
   "metadata": {},
   "outputs": [],
   "source": [
    "def merhabaDunya():\n",
    "    print(\"merhaba dünya\")"
   ]
  },
  {
   "cell_type": "code",
   "execution_count": 11,
   "id": "763a01c8",
   "metadata": {},
   "outputs": [],
   "source": [
    " def merhabaSoyle(yazdirilacak_isim):\n",
    "        print(f\"merhaba {yazdirilacak_isim}\")"
   ]
  },
  {
   "cell_type": "code",
   "execution_count": 15,
   "id": "d2246833",
   "metadata": {},
   "outputs": [
    {
     "name": "stdout",
     "output_type": "stream",
     "text": [
      "merhaba mars\n"
     ]
    }
   ],
   "source": [
    "merhabaSoyle(\"mars\")"
   ]
  },
  {
   "cell_type": "code",
   "execution_count": 16,
   "id": "dec56c44",
   "metadata": {},
   "outputs": [
    {
     "name": "stdout",
     "output_type": "stream",
     "text": [
      "ismini giriniz: mars\n",
      "merhaba mars\n"
     ]
    }
   ],
   "source": [
    "isim = input(\"ismini giriniz: \")\n",
    "merhabaSoyle(isim)"
   ]
  },
  {
   "cell_type": "code",
   "execution_count": 17,
   "id": "a82cd9f2",
   "metadata": {},
   "outputs": [],
   "source": [
    "def alternatifMerhaba(isim = \"python\"):\n",
    "    print(f\"merhaba {isim}\")"
   ]
  },
  {
   "cell_type": "code",
   "execution_count": 18,
   "id": "25fdaed4",
   "metadata": {},
   "outputs": [
    {
     "name": "stdout",
     "output_type": "stream",
     "text": [
      "merhaba python\n"
     ]
    }
   ],
   "source": [
    "alternatifMerhaba()"
   ]
  },
  {
   "cell_type": "code",
   "execution_count": 20,
   "id": "e9bd783d",
   "metadata": {},
   "outputs": [
    {
     "name": "stdout",
     "output_type": "stream",
     "text": [
      "merhaba emir\n"
     ]
    }
   ],
   "source": [
    "alternatifMerhaba(\"emir\")"
   ]
  },
  {
   "cell_type": "code",
   "execution_count": 21,
   "id": "cb29a673",
   "metadata": {},
   "outputs": [],
   "source": [
    "def toplama(num1, num2):\n",
    "    sonuc = num1 + num2\n",
    "    print(sonuc)"
   ]
  },
  {
   "cell_type": "code",
   "execution_count": 22,
   "id": "e5fb66ab",
   "metadata": {},
   "outputs": [
    {
     "name": "stdout",
     "output_type": "stream",
     "text": [
      "110\n"
     ]
    }
   ],
   "source": [
    "toplama(10,100)"
   ]
  },
  {
   "cell_type": "code",
   "execution_count": 23,
   "id": "b355cb12",
   "metadata": {},
   "outputs": [],
   "source": [
    "def degerDondurenToplama(num1,num2):\n",
    "    print(num1+num2)\n",
    "    return num1+num2"
   ]
  },
  {
   "cell_type": "code",
   "execution_count": 24,
   "id": "b1cd8858",
   "metadata": {},
   "outputs": [
    {
     "name": "stdout",
     "output_type": "stream",
     "text": [
      "70\n"
     ]
    }
   ],
   "source": [
    "y = degerDondurenToplama(20,50)"
   ]
  },
  {
   "cell_type": "code",
   "execution_count": 25,
   "id": "f4f81b40",
   "metadata": {},
   "outputs": [
    {
     "data": {
      "text/plain": [
       "int"
      ]
     },
     "execution_count": 25,
     "metadata": {},
     "output_type": "execute_result"
    }
   ],
   "source": [
    "type(y)"
   ]
  },
  {
   "cell_type": "code",
   "execution_count": 27,
   "id": "586d392d",
   "metadata": {},
   "outputs": [],
   "source": [
    "def stringKontrolFonksiyonu(s):\n",
    "    if s == \"python\":\n",
    "        return \"python kelimesini vermişsiniz\"\n",
    "    elif s == \"ruby\":\n",
    "        return \"ruby kelimesini vermişsiniz\"\n",
    "    else:\n",
    "        return \"python veya ruby kelimesini vermemişsiniz\""
   ]
  },
  {
   "cell_type": "code",
   "execution_count": 28,
   "id": "1f16360f",
   "metadata": {},
   "outputs": [
    {
     "data": {
      "text/plain": [
       "'python kelimesini vermişsiniz'"
      ]
     },
     "execution_count": 28,
     "metadata": {},
     "output_type": "execute_result"
    }
   ],
   "source": [
    "stringKontrolFonksiyonu(\"python\")"
   ]
  },
  {
   "cell_type": "code",
   "execution_count": 30,
   "id": "b867fd38",
   "metadata": {},
   "outputs": [],
   "source": [
    "def degerDonduren(num1,num2):\n",
    "    return num1+num2"
   ]
  },
  {
   "cell_type": "code",
   "execution_count": 31,
   "id": "322331bd",
   "metadata": {},
   "outputs": [
    {
     "data": {
      "text/plain": [
       "70"
      ]
     },
     "execution_count": 31,
     "metadata": {},
     "output_type": "execute_result"
    }
   ],
   "source": [
    "degerDonduren(30,40)"
   ]
  },
  {
   "cell_type": "code",
   "execution_count": 32,
   "id": "a99656e2",
   "metadata": {},
   "outputs": [
    {
     "data": {
      "text/plain": [
       "'python kelimesini vermişsiniz'"
      ]
     },
     "execution_count": 32,
     "metadata": {},
     "output_type": "execute_result"
    }
   ],
   "source": [
    "sonuc = stringKontrolFonksiyonu(\"python\")\n",
    "sonuc"
   ]
  },
  {
   "cell_type": "code",
   "execution_count": 33,
   "id": "fc1ef377",
   "metadata": {},
   "outputs": [],
   "source": [
    "#args, kwargs"
   ]
  },
  {
   "cell_type": "code",
   "execution_count": 34,
   "id": "434a5052",
   "metadata": {},
   "outputs": [],
   "source": [
    "def sonsuzToplama(*args): #arguments\n",
    "    return sum(args)"
   ]
  },
  {
   "cell_type": "code",
   "execution_count": 35,
   "id": "f2979642",
   "metadata": {},
   "outputs": [
    {
     "data": {
      "text/plain": [
       "3"
      ]
     },
     "execution_count": 35,
     "metadata": {},
     "output_type": "execute_result"
    }
   ],
   "source": [
    "sonsuzToplama(1,2)"
   ]
  },
  {
   "cell_type": "code",
   "execution_count": 36,
   "id": "93c57223",
   "metadata": {},
   "outputs": [
    {
     "data": {
      "text/plain": [
       "651688643"
      ]
     },
     "execution_count": 36,
     "metadata": {},
     "output_type": "execute_result"
    }
   ],
   "source": [
    "sonsuzToplama(1,10,1215,34186,1564,16,651651651)"
   ]
  },
  {
   "cell_type": "code",
   "execution_count": 37,
   "id": "5718f04e",
   "metadata": {},
   "outputs": [],
   "source": [
    " def keyWordFonksiyonu(**kwargs): #sözlük vermek için kullanılır.\n",
    "        return(kwargs)"
   ]
  },
  {
   "cell_type": "code",
   "execution_count": 38,
   "id": "2b5edb1b",
   "metadata": {},
   "outputs": [
    {
     "data": {
      "text/plain": [
       "{'muz': 100, 'elma': 200, 'karpu': 300}"
      ]
     },
     "execution_count": 38,
     "metadata": {},
     "output_type": "execute_result"
    }
   ],
   "source": [
    "keyWordFonksiyonu(muz=100,elma=200,karpu=300)"
   ]
  }
 ],
 "metadata": {
  "kernelspec": {
   "display_name": "Python 3 (ipykernel)",
   "language": "python",
   "name": "python3"
  },
  "language_info": {
   "codemirror_mode": {
    "name": "ipython",
    "version": 3
   },
   "file_extension": ".py",
   "mimetype": "text/x-python",
   "name": "python",
   "nbconvert_exporter": "python",
   "pygments_lexer": "ipython3",
   "version": "3.9.7"
  }
 },
 "nbformat": 4,
 "nbformat_minor": 5
}
