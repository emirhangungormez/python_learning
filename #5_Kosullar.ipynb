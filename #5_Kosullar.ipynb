{
 "cells": [
  {
   "cell_type": "code",
   "execution_count": 3,
   "id": "c65f985b",
   "metadata": {},
   "outputs": [],
   "source": [
    " x = 10"
   ]
  },
  {
   "cell_type": "code",
   "execution_count": 6,
   "id": "13ae5d9a",
   "metadata": {},
   "outputs": [
    {
     "name": "stdout",
     "output_type": "stream",
     "text": [
      "x'in değeri: 10\n"
     ]
    }
   ],
   "source": [
    "print(f\"x'in değeri: {x}\") #formated"
   ]
  },
  {
   "cell_type": "code",
   "execution_count": 7,
   "id": "40b02f45",
   "metadata": {},
   "outputs": [],
   "source": [
    "y = 4\n",
    "z = 3"
   ]
  },
  {
   "cell_type": "code",
   "execution_count": 9,
   "id": "bb78b4fc",
   "metadata": {},
   "outputs": [
    {
     "name": "stdout",
     "output_type": "stream",
     "text": [
      "x gerçekten de y'den büyükmüş\n",
      "çünkü x'in değeri 10 ve y'nin değeri 4\n"
     ]
    }
   ],
   "source": [
    "if x > y:\n",
    "    print(\"x gerçekten de y'den büyükmüş\")\n",
    "    print(f\"çünkü x'in değeri {x} ve y'nin değeri {y}\")"
   ]
  },
  {
   "cell_type": "code",
   "execution_count": 10,
   "id": "6eaab488",
   "metadata": {},
   "outputs": [],
   "source": [
    "a = 5\n",
    "b = 6"
   ]
  },
  {
   "cell_type": "code",
   "execution_count": 11,
   "id": "b77cb972",
   "metadata": {},
   "outputs": [
    {
     "name": "stdout",
     "output_type": "stream",
     "text": [
      "burası if kontrolünün düşündadır\n"
     ]
    }
   ],
   "source": [
    "if a > b:\n",
    "    print(\"a, b'den büyüktür\")\n",
    "print(\"burası if kontrolünün düşündadır\")"
   ]
  },
  {
   "cell_type": "markdown",
   "id": "67ff99fb",
   "metadata": {},
   "source": [
    "not: indentation hatası boşluklar ile alakalı bir geri dönüş hatasıdır."
   ]
  },
  {
   "cell_type": "code",
   "execution_count": 12,
   "id": "db29323f",
   "metadata": {},
   "outputs": [
    {
     "name": "stdout",
     "output_type": "stream",
     "text": [
      "a, b'den büyüktür\n",
      "x, y'den büyüktür\n"
     ]
    }
   ],
   "source": [
    "if b > a:\n",
    "    print(\"a, b'den büyüktür\")\n",
    "    if x > y:\n",
    "        print(\"x, y'den büyüktür\")"
   ]
  },
  {
   "cell_type": "code",
   "execution_count": 15,
   "id": "4bb9917e",
   "metadata": {},
   "outputs": [],
   "source": [
    "sayi1 = 10\n",
    "sayi2 = 5"
   ]
  },
  {
   "cell_type": "raw",
   "id": "34bd14f4",
   "metadata": {},
   "source": [
    "if sayi1 > sayi2:\n",
    "    print(\"sayi1 daha büyük\")\n",
    "elif sayi2 > sayi:\n",
    "    print(\"sayi2 daha büyük\")\n",
    "else:\n",
    "    print(\"sayılar birbirine eşit\")"
   ]
  },
  {
   "cell_type": "code",
   "execution_count": 20,
   "id": "642793f4",
   "metadata": {},
   "outputs": [],
   "source": [
    "a = 5\n",
    "b = 10\n",
    "c = 15"
   ]
  },
  {
   "cell_type": "code",
   "execution_count": 22,
   "id": "799f9d72",
   "metadata": {},
   "outputs": [
    {
     "name": "stdout",
     "output_type": "stream",
     "text": [
      "a, b'den küçük ve aynı zamanda b de c'den küçük\n"
     ]
    }
   ],
   "source": [
    "if a>b and b>c:\n",
    "    print(\"a, b'den büyük ve aynı zamanda b de c'den büyük\")\n",
    "elif a<b and b<c:\n",
    "    print(\"a, b'den küçük ve aynı zamanda b de c'den küçük\")\n",
    "else:\n",
    "    print(\"bu koşullar tutmadı\")"
   ]
  },
  {
   "cell_type": "code",
   "execution_count": 23,
   "id": "96b1103f",
   "metadata": {},
   "outputs": [],
   "source": [
    "numara_listesi = [10,20,30,40,50,60]"
   ]
  },
  {
   "cell_type": "code",
   "execution_count": 25,
   "id": "0b6d7123",
   "metadata": {},
   "outputs": [
    {
     "name": "stdout",
     "output_type": "stream",
     "text": [
      "evet var\n"
     ]
    }
   ],
   "source": [
    "if 50 in numara_listesi:\n",
    "    print(\"evet var\")\n",
    "else:\n",
    "    print(\"hayır yok\")"
   ]
  },
  {
   "cell_type": "code",
   "execution_count": 27,
   "id": "c720362e",
   "metadata": {},
   "outputs": [],
   "source": [
    "kalori_sozluk = {\"muz\":100,\"elma\":200,\"karpuz\":300} "
   ]
  },
  {
   "cell_type": "code",
   "execution_count": 29,
   "id": "62bd401b",
   "metadata": {},
   "outputs": [
    {
     "name": "stdout",
     "output_type": "stream",
     "text": [
      "evet var\n"
     ]
    }
   ],
   "source": [
    "if \"muz\" in kalori_sozluk.keys():\n",
    "    print(\"evet var\")"
   ]
  },
  {
   "cell_type": "code",
   "execution_count": 30,
   "id": "fe30c5b8",
   "metadata": {},
   "outputs": [
    {
     "name": "stdout",
     "output_type": "stream",
     "text": [
      "evet var\n"
     ]
    }
   ],
   "source": [
    "if 300 in kalori_sozluk.values():\n",
    "    print(\"evet var\")"
   ]
  }
 ],
 "metadata": {
  "kernelspec": {
   "display_name": "Python 3 (ipykernel)",
   "language": "python",
   "name": "python3"
  },
  "language_info": {
   "codemirror_mode": {
    "name": "ipython",
    "version": 3
   },
   "file_extension": ".py",
   "mimetype": "text/x-python",
   "name": "python",
   "nbconvert_exporter": "python",
   "pygments_lexer": "ipython3",
   "version": "3.9.7"
  }
 },
 "nbformat": 4,
 "nbformat_minor": 5
}
