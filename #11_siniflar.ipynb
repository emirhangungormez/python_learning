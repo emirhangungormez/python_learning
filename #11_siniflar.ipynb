{
 "cells": [
  {
   "cell_type": "code",
   "execution_count": 1,
   "id": "8883d877",
   "metadata": {},
   "outputs": [],
   "source": [
    "benim_sozluk = dict()"
   ]
  },
  {
   "cell_type": "code",
   "execution_count": 2,
   "id": "dbb10639",
   "metadata": {},
   "outputs": [],
   "source": [
    "benim_sozluk[\"anahtar\"] = \"değer\""
   ]
  },
  {
   "cell_type": "code",
   "execution_count": 3,
   "id": "660cc857",
   "metadata": {},
   "outputs": [
    {
     "data": {
      "text/plain": [
       "{'anahtar': 'değer'}"
      ]
     },
     "execution_count": 3,
     "metadata": {},
     "output_type": "execute_result"
    }
   ],
   "source": [
    "benim_sozluk"
   ]
  },
  {
   "cell_type": "code",
   "execution_count": 4,
   "id": "d701e4ea",
   "metadata": {},
   "outputs": [
    {
     "data": {
      "text/plain": [
       "dict"
      ]
     },
     "execution_count": 4,
     "metadata": {},
     "output_type": "execute_result"
    }
   ],
   "source": [
    "type(benim_sozluk)"
   ]
  },
  {
   "cell_type": "code",
   "execution_count": 7,
   "id": "f0b6d1e5",
   "metadata": {},
   "outputs": [],
   "source": [
    "meyve_adi = \"elma\"\n",
    "meyve_kalorisi = 100\n",
    "meyve_rengi = \"kırmızı\""
   ]
  },
  {
   "cell_type": "code",
   "execution_count": 9,
   "id": "b84370ea",
   "metadata": {},
   "outputs": [],
   "source": [
    "#instance & attribute & instantiate & init - intialize"
   ]
  },
  {
   "cell_type": "code",
   "execution_count": 12,
   "id": "12aaf57d",
   "metadata": {},
   "outputs": [],
   "source": [
    "class Meyve():\n",
    "    isim = \"\""
   ]
  },
  {
   "cell_type": "code",
   "execution_count": 13,
   "id": "020afc66",
   "metadata": {},
   "outputs": [],
   "source": [
    "elma = Meyve()"
   ]
  },
  {
   "cell_type": "code",
   "execution_count": 14,
   "id": "09420f60",
   "metadata": {},
   "outputs": [
    {
     "data": {
      "text/plain": [
       "__main__.Meyve"
      ]
     },
     "execution_count": 14,
     "metadata": {},
     "output_type": "execute_result"
    }
   ],
   "source": [
    "type(elma)"
   ]
  },
  {
   "cell_type": "code",
   "execution_count": 15,
   "id": "b1ae089e",
   "metadata": {},
   "outputs": [
    {
     "name": "stdout",
     "output_type": "stream",
     "text": [
      "\n"
     ]
    }
   ],
   "source": [
    "print(elma.isim)"
   ]
  },
  {
   "cell_type": "code",
   "execution_count": 16,
   "id": "a9f53299",
   "metadata": {},
   "outputs": [],
   "source": [
    "elma.isim = \"elma\""
   ]
  },
  {
   "cell_type": "code",
   "execution_count": 17,
   "id": "619c2024",
   "metadata": {},
   "outputs": [
    {
     "name": "stdout",
     "output_type": "stream",
     "text": [
      "elma\n"
     ]
    }
   ],
   "source": [
    "print(elma.isim)"
   ]
  },
  {
   "cell_type": "code",
   "execution_count": 18,
   "id": "08d26f91",
   "metadata": {},
   "outputs": [],
   "source": [
    "class Meyve():\n",
    "    isim = \"\"\n",
    "    kalori = 0\n",
    "    renk = \"\""
   ]
  },
  {
   "cell_type": "code",
   "execution_count": 19,
   "id": "0cec8371",
   "metadata": {},
   "outputs": [],
   "source": [
    "elma = Meyve()"
   ]
  },
  {
   "cell_type": "code",
   "execution_count": 20,
   "id": "039c00e4",
   "metadata": {},
   "outputs": [],
   "source": [
    "elma.isim = \"elma\"\n",
    "elma.kalori = 100\n",
    "elma.renk = \"kırmızı\""
   ]
  },
  {
   "cell_type": "code",
   "execution_count": 25,
   "id": "04689b44",
   "metadata": {},
   "outputs": [],
   "source": [
    "class Meyve():\n",
    "    \n",
    "    def __init__(self,isim,kalori,renk): #istenecek değerler\n",
    "        print(\"init çalıştırıldı\")\n",
    "        self.isim = isim\n",
    "        self.kalori = kalori\n",
    "        self.renk = renk\n",
    "    \n",
    "    def meyveninRengiNe(self):\n",
    "        print(f\"meyvenin rengi şudur: {self.renk}\")"
   ]
  },
  {
   "cell_type": "code",
   "execution_count": 26,
   "id": "6b39c370",
   "metadata": {},
   "outputs": [
    {
     "name": "stdout",
     "output_type": "stream",
     "text": [
      "init çalıştırıldı\n"
     ]
    }
   ],
   "source": [
    "elma = Meyve(\"elma\", 100, \"kırmızı\")"
   ]
  },
  {
   "cell_type": "code",
   "execution_count": 27,
   "id": "06b04a35",
   "metadata": {},
   "outputs": [
    {
     "name": "stdout",
     "output_type": "stream",
     "text": [
      "meyvenin rengi şudur: kırmızı\n"
     ]
    }
   ],
   "source": [
    "elma.meyveninRengiNe()"
   ]
  },
  {
   "cell_type": "code",
   "execution_count": 33,
   "id": "0fbe6b45",
   "metadata": {},
   "outputs": [],
   "source": [
    "class Kedi():\n",
    "    \n",
    "    def __init__(self, yas, ):\n",
    "        self.yas = yas\n",
    "        self.insanYasinaCevrilmisHali = yas * 7\n",
    "        \n",
    "    def insanYasiniHesapla(self):\n",
    "        return self.yas * 7"
   ]
  },
  {
   "cell_type": "code",
   "execution_count": 30,
   "id": "6fb98a8f",
   "metadata": {},
   "outputs": [],
   "source": [
    "benim_kedim = Kedi(3)"
   ]
  },
  {
   "cell_type": "code",
   "execution_count": 31,
   "id": "1a7bc874",
   "metadata": {},
   "outputs": [
    {
     "data": {
      "text/plain": [
       "21"
      ]
     },
     "execution_count": 31,
     "metadata": {},
     "output_type": "execute_result"
    }
   ],
   "source": [
    "benim_kedim.insanYasinaCevrilmisHali"
   ]
  },
  {
   "cell_type": "code",
   "execution_count": 32,
   "id": "700eccd2",
   "metadata": {},
   "outputs": [
    {
     "data": {
      "text/plain": [
       "21"
      ]
     },
     "execution_count": 32,
     "metadata": {},
     "output_type": "execute_result"
    }
   ],
   "source": [
    "benim_kedim.insanYasiniHesapla()"
   ]
  },
  {
   "cell_type": "code",
   "execution_count": 34,
   "id": "9a7540ee",
   "metadata": {},
   "outputs": [],
   "source": [
    "class Kedi():\n",
    "    \n",
    "    yil_carpani = 7\n",
    "    \n",
    "    def __init__(self, yas, ):\n",
    "        self.yas = yas\n",
    "        self.insanYasinaCevrilmisHali = yas * 7\n",
    "        \n",
    "    def insanYasiniHesapla(self):\n",
    "        return self.yas * self.yil_carpani"
   ]
  },
  {
   "cell_type": "code",
   "execution_count": 35,
   "id": "09917ac3",
   "metadata": {},
   "outputs": [],
   "source": [
    "baska_kedi = Kedi(4)"
   ]
  },
  {
   "cell_type": "code",
   "execution_count": 37,
   "id": "2a56673c",
   "metadata": {},
   "outputs": [
    {
     "data": {
      "text/plain": [
       "28"
      ]
     },
     "execution_count": 37,
     "metadata": {},
     "output_type": "execute_result"
    }
   ],
   "source": [
    "baska_kedi.insanYasiniHesapla()"
   ]
  },
  {
   "cell_type": "code",
   "execution_count": 38,
   "id": "0dbb9da0",
   "metadata": {},
   "outputs": [],
   "source": [
    "baska_kedi.yil_carpani = 6"
   ]
  },
  {
   "cell_type": "code",
   "execution_count": 39,
   "id": "ba5841fd",
   "metadata": {},
   "outputs": [
    {
     "data": {
      "text/plain": [
       "24"
      ]
     },
     "execution_count": 39,
     "metadata": {},
     "output_type": "execute_result"
    }
   ],
   "source": [
    "baska_kedi.insanYasiniHesapla()"
   ]
  },
  {
   "cell_type": "code",
   "execution_count": 40,
   "id": "4fa8b898",
   "metadata": {},
   "outputs": [],
   "source": [
    "#inheritance"
   ]
  },
  {
   "cell_type": "code",
   "execution_count": 44,
   "id": "ea4ac5be",
   "metadata": {},
   "outputs": [],
   "source": [
    "class Canli():\n",
    "    \n",
    "    def __init__(self):\n",
    "        print(\"canlı sınıfı init çalıştırıldı\")\n",
    "        \n",
    "    def method1(self):\n",
    "        print(\"canlı sınıfı method1 çalıştırıldı\")\n",
    "        \n",
    "    def method2(self):\n",
    "        print(\"canlı sınıfı method2 çalıştırıldı\")"
   ]
  },
  {
   "cell_type": "code",
   "execution_count": 45,
   "id": "0b41ee37",
   "metadata": {},
   "outputs": [
    {
     "name": "stdout",
     "output_type": "stream",
     "text": [
      "canlı sınıfı init çalıştırıldı\n"
     ]
    }
   ],
   "source": [
    "emir = Canli()"
   ]
  },
  {
   "cell_type": "code",
   "execution_count": 46,
   "id": "b1912b21",
   "metadata": {},
   "outputs": [
    {
     "name": "stdout",
     "output_type": "stream",
     "text": [
      "canlı sınıfı method1 çalıştırıldı\n"
     ]
    }
   ],
   "source": [
    "emir.method1()"
   ]
  },
  {
   "cell_type": "code",
   "execution_count": 47,
   "id": "389d92f4",
   "metadata": {},
   "outputs": [
    {
     "name": "stdout",
     "output_type": "stream",
     "text": [
      "canlı sınıfı method2 çalıştırıldı\n"
     ]
    }
   ],
   "source": [
    "emir.method2()"
   ]
  },
  {
   "cell_type": "code",
   "execution_count": 73,
   "id": "a889fe08",
   "metadata": {},
   "outputs": [],
   "source": [
    "class Kopek(Canli):\n",
    "    \n",
    "    def __init__(self):\n",
    "        Canli.__init__(self)\n",
    "        print(\"köpek sınıfının init'i çağrıldı\")\n",
    "    \n",
    "    def havlamak(self):\n",
    "        print(\"hav!\")"
   ]
  },
  {
   "cell_type": "code",
   "execution_count": 74,
   "id": "4fdeb05a",
   "metadata": {},
   "outputs": [
    {
     "name": "stdout",
     "output_type": "stream",
     "text": [
      "canlı sınıfı init çalıştırıldı\n",
      "köpek sınıfının init'i çağrıldı\n"
     ]
    }
   ],
   "source": [
    "benim_kopek = Kopek()"
   ]
  },
  {
   "cell_type": "code",
   "execution_count": 75,
   "id": "fc15128a",
   "metadata": {},
   "outputs": [
    {
     "name": "stdout",
     "output_type": "stream",
     "text": [
      "hav!\n"
     ]
    }
   ],
   "source": [
    "benim_kopek.havlamak()"
   ]
  },
  {
   "cell_type": "code",
   "execution_count": 76,
   "id": "9d793bf7",
   "metadata": {},
   "outputs": [
    {
     "name": "stdout",
     "output_type": "stream",
     "text": [
      "canlı sınıfı method2 çalıştırıldı\n"
     ]
    }
   ],
   "source": [
    "benim_kopek.method2()"
   ]
  },
  {
   "cell_type": "code",
   "execution_count": 77,
   "id": "d9fc525f",
   "metadata": {},
   "outputs": [],
   "source": [
    "#polymorphism"
   ]
  },
  {
   "cell_type": "code",
   "execution_count": 79,
   "id": "bf3fa2b9",
   "metadata": {},
   "outputs": [],
   "source": [
    "class Kosma():\n",
    "    \n",
    "    def __init__(self, isim):\n",
    "        self.isim = isim\n",
    "        \n",
    "    def bilgiAl(self):\n",
    "        return self.isim + \"250 kalori yaktırır\""
   ]
  },
  {
   "cell_type": "code",
   "execution_count": 80,
   "id": "c4c884bf",
   "metadata": {},
   "outputs": [],
   "source": [
    "class Yuzme():\n",
    "    \n",
    "    def __init__(self, isim):\n",
    "        self.isim = isim\n",
    "        \n",
    "    def bilgiAl(self):\n",
    "        return self.isim + \"350 kalori yaktırır\""
   ]
  },
  {
   "cell_type": "code",
   "execution_count": 83,
   "id": "95b131b7",
   "metadata": {},
   "outputs": [],
   "source": [
    "kosma = Kosma(\"koşma\")"
   ]
  },
  {
   "cell_type": "code",
   "execution_count": 84,
   "id": "470cab84",
   "metadata": {},
   "outputs": [],
   "source": [
    "yuzme = Yuzme(\"yüzme\")"
   ]
  },
  {
   "cell_type": "code",
   "execution_count": 85,
   "id": "b7e5a8b4",
   "metadata": {},
   "outputs": [
    {
     "data": {
      "text/plain": [
       "'koşma250 kalori yaktırır'"
      ]
     },
     "execution_count": 85,
     "metadata": {},
     "output_type": "execute_result"
    }
   ],
   "source": [
    "kosma.bilgiAl()"
   ]
  },
  {
   "cell_type": "code",
   "execution_count": 86,
   "id": "89498cb1",
   "metadata": {},
   "outputs": [
    {
     "data": {
      "text/plain": [
       "'yüzme350 kalori yaktırır'"
      ]
     },
     "execution_count": 86,
     "metadata": {},
     "output_type": "execute_result"
    }
   ],
   "source": [
    "yuzme.bilgiAl()"
   ]
  },
  {
   "cell_type": "code",
   "execution_count": 87,
   "id": "416dbe94",
   "metadata": {},
   "outputs": [],
   "source": [
    "spor_listesi = [kosma, yuzme]"
   ]
  },
  {
   "cell_type": "code",
   "execution_count": 89,
   "id": "7751f283",
   "metadata": {},
   "outputs": [
    {
     "name": "stdout",
     "output_type": "stream",
     "text": [
      "koşma250 kalori yaktırır\n",
      "yüzme350 kalori yaktırır\n"
     ]
    }
   ],
   "source": [
    "for spor in spor_listesi:\n",
    "    print(spor.bilgiAl())"
   ]
  },
  {
   "cell_type": "code",
   "execution_count": 105,
   "id": "2f612b2f",
   "metadata": {},
   "outputs": [],
   "source": [
    "class Superkahraman():\n",
    "    \n",
    "    def __init__(self, isim, yas):\n",
    "        self.isim = isim\n",
    "        self.yas = yas\n",
    "        \n",
    "    def __str__(self):\n",
    "        return f\"{self.isim} çok iyi bir süper kahramandır\"\n",
    "    \n",
    "    def __len__(self):\n",
    "        return self.yas"
   ]
  },
  {
   "cell_type": "code",
   "execution_count": 106,
   "id": "78a92a58",
   "metadata": {},
   "outputs": [],
   "source": [
    "batman = Superkahraman(\"batman\", 30)"
   ]
  },
  {
   "cell_type": "code",
   "execution_count": 107,
   "id": "aa206206",
   "metadata": {},
   "outputs": [
    {
     "data": {
      "text/plain": [
       "'batman'"
      ]
     },
     "execution_count": 107,
     "metadata": {},
     "output_type": "execute_result"
    }
   ],
   "source": [
    "batman.isim"
   ]
  },
  {
   "cell_type": "code",
   "execution_count": 108,
   "id": "48648ab1",
   "metadata": {},
   "outputs": [
    {
     "data": {
      "text/plain": [
       "30"
      ]
     },
     "execution_count": 108,
     "metadata": {},
     "output_type": "execute_result"
    }
   ],
   "source": [
    "batman.yas"
   ]
  },
  {
   "cell_type": "code",
   "execution_count": 109,
   "id": "95b55734",
   "metadata": {},
   "outputs": [
    {
     "name": "stdout",
     "output_type": "stream",
     "text": [
      "batman çok iyi bir süper kahramandır\n"
     ]
    }
   ],
   "source": [
    "print(batman)"
   ]
  },
  {
   "cell_type": "code",
   "execution_count": 110,
   "id": "3a70b9db",
   "metadata": {},
   "outputs": [
    {
     "data": {
      "text/plain": [
       "30"
      ]
     },
     "execution_count": 110,
     "metadata": {},
     "output_type": "execute_result"
    }
   ],
   "source": [
    "len(batman)"
   ]
  },
  {
   "cell_type": "code",
   "execution_count": null,
   "id": "f537e927",
   "metadata": {},
   "outputs": [],
   "source": []
  }
 ],
 "metadata": {
  "kernelspec": {
   "display_name": "Python 3 (ipykernel)",
   "language": "python",
   "name": "python3"
  },
  "language_info": {
   "codemirror_mode": {
    "name": "ipython",
    "version": 3
   },
   "file_extension": ".py",
   "mimetype": "text/x-python",
   "name": "python",
   "nbconvert_exporter": "python",
   "pygments_lexer": "ipython3",
   "version": "3.9.7"
  }
 },
 "nbformat": 4,
 "nbformat_minor": 5
}
