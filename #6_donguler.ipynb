{
 "cells": [
  {
   "cell_type": "code",
   "execution_count": 1,
   "id": "5f66b6dc",
   "metadata": {},
   "outputs": [],
   "source": [
    "listem = [40,50,60,70,80,90,100]"
   ]
  },
  {
   "cell_type": "code",
   "execution_count": 2,
   "id": "c3d7a7a8",
   "metadata": {},
   "outputs": [],
   "source": [
    "#for döngüsü"
   ]
  },
  {
   "cell_type": "code",
   "execution_count": 4,
   "id": "ce4f43b8",
   "metadata": {},
   "outputs": [
    {
     "name": "stdout",
     "output_type": "stream",
     "text": [
      "48.0\n",
      "60.0\n",
      "72.0\n",
      "84.0\n",
      "96.0\n",
      "108.0\n",
      "120.0\n",
      "döngü bitti\n"
     ]
    }
   ],
   "source": [
    "for numara in listem: #liste içerisindeki her eleman \"numara\" değişkenine atanarak sonuca yazdırılır.\n",
    "    print(numara / 5*6)\n",
    "print(\"döngü bitti\")"
   ]
  },
  {
   "cell_type": "code",
   "execution_count": 5,
   "id": "63c43b76",
   "metadata": {},
   "outputs": [],
   "source": [
    "yeni_listem = [10,2032,3534,122,131,153,75,179,1349]"
   ]
  },
  {
   "cell_type": "code",
   "execution_count": 6,
   "id": "97bec19c",
   "metadata": {},
   "outputs": [
    {
     "name": "stdout",
     "output_type": "stream",
     "text": [
      "10\n",
      "2032\n",
      "3534\n",
      "122\n"
     ]
    }
   ],
   "source": [
    "for sayi in yeni_listem:\n",
    "    if sayi % 2 == 0: #yalnızca çift sayıları yazdırır.\n",
    "        print(sayi)"
   ]
  },
  {
   "cell_type": "code",
   "execution_count": 7,
   "id": "be19463b",
   "metadata": {},
   "outputs": [],
   "source": [
    "ismim = \"emirhan güngörmez\""
   ]
  },
  {
   "cell_type": "code",
   "execution_count": 8,
   "id": "70d58f22",
   "metadata": {},
   "outputs": [
    {
     "name": "stdout",
     "output_type": "stream",
     "text": [
      "e\n",
      "m\n",
      "i\n",
      "r\n",
      "h\n",
      "a\n",
      "n\n",
      " \n",
      "g\n",
      "ü\n",
      "n\n",
      "g\n",
      "ö\n",
      "r\n",
      "m\n",
      "e\n",
      "z\n"
     ]
    }
   ],
   "source": [
    "for harf in ismim:\n",
    "    print(harf)"
   ]
  },
  {
   "cell_type": "code",
   "execution_count": 12,
   "id": "08e17aa6",
   "metadata": {},
   "outputs": [],
   "source": [
    "benim_tuple = (10,20,30,40,50,60)"
   ]
  },
  {
   "cell_type": "code",
   "execution_count": 13,
   "id": "af503ed4",
   "metadata": {},
   "outputs": [
    {
     "name": "stdout",
     "output_type": "stream",
     "text": [
      "100\n",
      "200\n",
      "300\n",
      "400\n",
      "500\n",
      "600\n"
     ]
    }
   ],
   "source": [
    "for eleman in benim_tuple:\n",
    "    print(eleman * 10)"
   ]
  },
  {
   "cell_type": "code",
   "execution_count": 14,
   "id": "2e5dd180",
   "metadata": {},
   "outputs": [],
   "source": [
    "karmasik_liste = [(3,5),(4,5),(6,7),(8,9)]"
   ]
  },
  {
   "cell_type": "code",
   "execution_count": 15,
   "id": "33cf831a",
   "metadata": {},
   "outputs": [
    {
     "data": {
      "text/plain": [
       "(8, 9)"
      ]
     },
     "execution_count": 15,
     "metadata": {},
     "output_type": "execute_result"
    }
   ],
   "source": [
    "karmasik_liste[3]"
   ]
  },
  {
   "cell_type": "code",
   "execution_count": 16,
   "id": "d0b6b340",
   "metadata": {},
   "outputs": [
    {
     "name": "stdout",
     "output_type": "stream",
     "text": [
      "(3, 5)\n",
      "(4, 5)\n",
      "(6, 7)\n",
      "(8, 9)\n"
     ]
    }
   ],
   "source": [
    "for eleman in karmasik_liste:\n",
    "    print(eleman)"
   ]
  },
  {
   "cell_type": "code",
   "execution_count": 17,
   "id": "d97cd326",
   "metadata": {},
   "outputs": [
    {
     "name": "stdout",
     "output_type": "stream",
     "text": [
      "3\n",
      "4\n",
      "6\n",
      "8\n"
     ]
    }
   ],
   "source": [
    "for (x,y) in karmasik_liste:\n",
    "    print(x) #yalnızca x'leri yazdırır."
   ]
  },
  {
   "cell_type": "code",
   "execution_count": 18,
   "id": "98e1c0d4",
   "metadata": {},
   "outputs": [
    {
     "name": "stdout",
     "output_type": "stream",
     "text": [
      "5\n",
      "5\n",
      "7\n",
      "9\n"
     ]
    }
   ],
   "source": [
    "for (x,y) in karmasik_liste:\n",
    "    print(y) #yalnızca y'leri yazdırır."
   ]
  },
  {
   "cell_type": "code",
   "execution_count": 19,
   "id": "4b2ab1b8",
   "metadata": {},
   "outputs": [],
   "source": [
    "kalori_sozluk = {\"muz\":100,\"elma\":200,\"karpuz\":300}"
   ]
  },
  {
   "cell_type": "code",
   "execution_count": 20,
   "id": "ba682e10",
   "metadata": {},
   "outputs": [
    {
     "data": {
      "text/plain": [
       "dict_items([('muz', 100), ('elma', 200), ('karpuz', 300)])"
      ]
     },
     "execution_count": 20,
     "metadata": {},
     "output_type": "execute_result"
    }
   ],
   "source": [
    "kalori_sozluk.items()"
   ]
  },
  {
   "cell_type": "code",
   "execution_count": 21,
   "id": "c10a97dc",
   "metadata": {},
   "outputs": [
    {
     "name": "stdout",
     "output_type": "stream",
     "text": [
      "muz\n",
      "elma\n",
      "karpuz\n"
     ]
    }
   ],
   "source": [
    "for (anahtar,deger) in kalori_sozluk.items():\n",
    "    print(anahtar)"
   ]
  },
  {
   "cell_type": "code",
   "execution_count": 22,
   "id": "3ba3f982",
   "metadata": {},
   "outputs": [
    {
     "name": "stdout",
     "output_type": "stream",
     "text": [
      "100\n",
      "200\n",
      "300\n"
     ]
    }
   ],
   "source": [
    "for (anahtar,deger) in kalori_sozluk.items():\n",
    "    print(deger)"
   ]
  },
  {
   "cell_type": "code",
   "execution_count": 24,
   "id": "91e90902",
   "metadata": {},
   "outputs": [],
   "source": [
    "uzun_liste = [10,20,30,40,50,60,70,80,90,10,110,120]"
   ]
  },
  {
   "cell_type": "code",
   "execution_count": 27,
   "id": "9ff86c9c",
   "metadata": {},
   "outputs": [
    {
     "name": "stdout",
     "output_type": "stream",
     "text": [
      "10\n",
      "20\n",
      "30\n",
      "40\n"
     ]
    }
   ],
   "source": [
    "for num in uzun_liste:\n",
    "    if num == 50:\n",
    "         break\n",
    "    print(num)"
   ]
  },
  {
   "cell_type": "code",
   "execution_count": 28,
   "id": "47823025",
   "metadata": {},
   "outputs": [
    {
     "name": "stdout",
     "output_type": "stream",
     "text": [
      "10\n",
      "20\n",
      "30\n",
      "40\n",
      "60\n",
      "70\n",
      "80\n",
      "90\n",
      "10\n",
      "110\n",
      "120\n"
     ]
    }
   ],
   "source": [
    "for num in uzun_liste:\n",
    "    if num == 50:\n",
    "         continue \n",
    "    print(num)"
   ]
  },
  {
   "cell_type": "code",
   "execution_count": 29,
   "id": "a795c0d0",
   "metadata": {},
   "outputs": [],
   "source": [
    "for num in uzun_liste:\n",
    "    if num == 50:\n",
    "         pass "
   ]
  },
  {
   "cell_type": "code",
   "execution_count": 23,
   "id": "d960f99c",
   "metadata": {},
   "outputs": [],
   "source": [
    "#while döngüsü"
   ]
  },
  {
   "cell_type": "code",
   "execution_count": 30,
   "id": "9f59c5f4",
   "metadata": {},
   "outputs": [
    {
     "name": "stdout",
     "output_type": "stream",
     "text": [
      "0\n",
      "1\n",
      "2\n",
      "3\n",
      "4\n",
      "5\n",
      "6\n",
      "7\n",
      "8\n",
      "9\n"
     ]
    }
   ],
   "source": [
    " a = 0\n",
    "while a <10:\n",
    "    print(a)\n",
    "    a = a + 1"
   ]
  },
  {
   "cell_type": "code",
   "execution_count": null,
   "id": "a68e47b1",
   "metadata": {},
   "outputs": [],
   "source": []
  }
 ],
 "metadata": {
  "kernelspec": {
   "display_name": "Python 3 (ipykernel)",
   "language": "python",
   "name": "python3"
  },
  "language_info": {
   "codemirror_mode": {
    "name": "ipython",
    "version": 3
   },
   "file_extension": ".py",
   "mimetype": "text/x-python",
   "name": "python",
   "nbconvert_exporter": "python",
   "pygments_lexer": "ipython3",
   "version": "3.9.7"
  }
 },
 "nbformat": 4,
 "nbformat_minor": 5
}
