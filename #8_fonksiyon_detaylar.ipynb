{
 "cells": [
  {
   "cell_type": "code",
   "execution_count": 4,
   "id": "a15c4bc8",
   "metadata": {},
   "outputs": [],
   "source": [
    "def ikiyleCarp(numara):\n",
    "    return numara * 2"
   ]
  },
  {
   "cell_type": "code",
   "execution_count": 5,
   "id": "296a18e3",
   "metadata": {},
   "outputs": [
    {
     "data": {
      "text/plain": [
       "40"
      ]
     },
     "execution_count": 5,
     "metadata": {},
     "output_type": "execute_result"
    }
   ],
   "source": [
    "ikiyleCarp(20)"
   ]
  },
  {
   "cell_type": "code",
   "execution_count": 6,
   "id": "97d51637",
   "metadata": {},
   "outputs": [],
   "source": [
    "numara_listesi = [10,20,30,40,50,60,70,80,90,1000]"
   ]
  },
  {
   "cell_type": "code",
   "execution_count": 8,
   "id": "bc4845ef",
   "metadata": {},
   "outputs": [],
   "source": [
    "yeni_liste = []\n",
    "for eleman in numara_listesi:\n",
    "    yeni_liste.append(ikiyleCarp(eleman))"
   ]
  },
  {
   "cell_type": "code",
   "execution_count": 10,
   "id": "33dc4dcc",
   "metadata": {},
   "outputs": [
    {
     "data": {
      "text/plain": [
       "[20, 40, 60, 80, 100, 120, 140, 160, 180, 2000]"
      ]
     },
     "execution_count": 10,
     "metadata": {},
     "output_type": "execute_result"
    }
   ],
   "source": [
    "yeni_liste"
   ]
  },
  {
   "cell_type": "code",
   "execution_count": 11,
   "id": "60faf280",
   "metadata": {},
   "outputs": [],
   "source": [
    "#map -> bir veri dizisini başka bir diziye çevirir."
   ]
  },
  {
   "cell_type": "code",
   "execution_count": 13,
   "id": "f4061b13",
   "metadata": {},
   "outputs": [
    {
     "data": {
      "text/plain": [
       "[20, 40, 60, 80, 100, 120, 140, 160, 180, 2000]"
      ]
     },
     "execution_count": 13,
     "metadata": {},
     "output_type": "execute_result"
    }
   ],
   "source": [
    "list(map(ikiyleCarp, numara_listesi))"
   ]
  },
  {
   "cell_type": "code",
   "execution_count": 15,
   "id": "9ae9139f",
   "metadata": {},
   "outputs": [],
   "source": [
    "def stringKontrolu(s):\n",
    "    return \"emir\" in s;"
   ]
  },
  {
   "cell_type": "code",
   "execution_count": 16,
   "id": "db03685d",
   "metadata": {},
   "outputs": [
    {
     "data": {
      "text/plain": [
       "True"
      ]
     },
     "execution_count": 16,
     "metadata": {},
     "output_type": "execute_result"
    }
   ],
   "source": [
    "stringKontrolu(\"emir han\")"
   ]
  },
  {
   "cell_type": "code",
   "execution_count": 17,
   "id": "53549c3e",
   "metadata": {},
   "outputs": [],
   "source": [
    "string_liste = [\"emir\", \"han\", \"gün\", \"görmez\"]"
   ]
  },
  {
   "cell_type": "code",
   "execution_count": 18,
   "id": "2b95f93b",
   "metadata": {},
   "outputs": [
    {
     "data": {
      "text/plain": [
       "[True, False, False, False]"
      ]
     },
     "execution_count": 18,
     "metadata": {},
     "output_type": "execute_result"
    }
   ],
   "source": [
    "list(map(stringKontrolu,string_liste))"
   ]
  },
  {
   "cell_type": "code",
   "execution_count": 19,
   "id": "e0fe9fe0",
   "metadata": {},
   "outputs": [],
   "source": [
    "#filter -> kritere uyan filtreleme işlemini yapar."
   ]
  },
  {
   "cell_type": "code",
   "execution_count": 21,
   "id": "535eaada",
   "metadata": {},
   "outputs": [
    {
     "data": {
      "text/plain": [
       "['emir']"
      ]
     },
     "execution_count": 21,
     "metadata": {},
     "output_type": "execute_result"
    }
   ],
   "source": [
    "list(filter(stringKontrolu,string_liste)) #True döndürülen..."
   ]
  },
  {
   "cell_type": "code",
   "execution_count": 22,
   "id": "d736a724",
   "metadata": {},
   "outputs": [],
   "source": [
    "#lambda -> tek seferde kullanılan fonksiyonlar"
   ]
  },
  {
   "cell_type": "code",
   "execution_count": 23,
   "id": "de38aed8",
   "metadata": {},
   "outputs": [],
   "source": [
    "def ucleCarp(num):\n",
    "    return num * 3"
   ]
  },
  {
   "cell_type": "code",
   "execution_count": 24,
   "id": "55d4ef13",
   "metadata": {},
   "outputs": [
    {
     "data": {
      "text/plain": [
       "90"
      ]
     },
     "execution_count": 24,
     "metadata": {},
     "output_type": "execute_result"
    }
   ],
   "source": [
    "ucleCarp(30)"
   ]
  },
  {
   "cell_type": "code",
   "execution_count": 26,
   "id": "7289df8c",
   "metadata": {},
   "outputs": [],
   "source": [
    "carpma = lambda num : num * 3 # input : return"
   ]
  },
  {
   "cell_type": "code",
   "execution_count": 27,
   "id": "18ab593b",
   "metadata": {},
   "outputs": [
    {
     "data": {
      "text/plain": [
       "90"
      ]
     },
     "execution_count": 27,
     "metadata": {},
     "output_type": "execute_result"
    }
   ],
   "source": [
    "carpma(30)"
   ]
  }
 ],
 "metadata": {
  "kernelspec": {
   "display_name": "Python 3 (ipykernel)",
   "language": "python",
   "name": "python3"
  },
  "language_info": {
   "codemirror_mode": {
    "name": "ipython",
    "version": 3
   },
   "file_extension": ".py",
   "mimetype": "text/x-python",
   "name": "python",
   "nbconvert_exporter": "python",
   "pygments_lexer": "ipython3",
   "version": "3.9.7"
  }
 },
 "nbformat": 4,
 "nbformat_minor": 5
}
