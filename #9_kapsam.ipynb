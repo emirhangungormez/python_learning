{
 "cells": [
  {
   "cell_type": "code",
   "execution_count": 1,
   "id": "c6cc7090",
   "metadata": {},
   "outputs": [],
   "source": [
    "sayi = 30\n",
    "\n",
    "def bolme(num):\n",
    "    sayi = 10 #sayıya yeni bir atama yapıyoruz.\n",
    "    return sayi / num"
   ]
  },
  {
   "cell_type": "code",
   "execution_count": 2,
   "id": "f231eb5e",
   "metadata": {},
   "outputs": [
    {
     "data": {
      "text/plain": [
       "5.0"
      ]
     },
     "execution_count": 2,
     "metadata": {},
     "output_type": "execute_result"
    }
   ],
   "source": [
    "bolme(2) #yeni atanan sayı kale alınıyor."
   ]
  },
  {
   "cell_type": "code",
   "execution_count": 3,
   "id": "36e14287",
   "metadata": {},
   "outputs": [],
   "source": [
    "#Scope -> kapsam\n",
    "# Local, Enclosing, Global, Built-in"
   ]
  },
  {
   "cell_type": "code",
   "execution_count": 8,
   "id": "233bb55f",
   "metadata": {},
   "outputs": [],
   "source": [
    "superkahraman = \"Batman\"\n",
    "#global\n",
    "\n",
    "def ornekFonksiyon():\n",
    "    superkahraman = \"Spiderman\"\n",
    "    #enclosing\n",
    "    \n",
    "    def icFonksiyon():\n",
    "        superkahraman = \"Aquaman\"\n",
    "        #local\n",
    "        print(superkahraman)\n",
    "    icFonksiyon()"
   ]
  },
  {
   "cell_type": "code",
   "execution_count": 9,
   "id": "21c7404e",
   "metadata": {},
   "outputs": [
    {
     "name": "stdout",
     "output_type": "stream",
     "text": [
      "Aquaman\n"
     ]
    }
   ],
   "source": [
    "ornekFonksiyon()"
   ]
  },
  {
   "cell_type": "code",
   "execution_count": 10,
   "id": "1b4b576f",
   "metadata": {},
   "outputs": [
    {
     "data": {
      "text/plain": [
       "'Batman'"
      ]
     },
     "execution_count": 10,
     "metadata": {},
     "output_type": "execute_result"
    }
   ],
   "source": [
    "superkahraman"
   ]
  },
  {
   "cell_type": "code",
   "execution_count": 11,
   "id": "d3ebcbbc",
   "metadata": {},
   "outputs": [],
   "source": [
    "x = 5\n",
    "\n",
    "def yeniOrnek(x):\n",
    "    print(x)\n",
    "    x=10\n",
    "    print(x)\n",
    "    return(x)"
   ]
  },
  {
   "cell_type": "code",
   "execution_count": 12,
   "id": "166f6525",
   "metadata": {},
   "outputs": [
    {
     "name": "stdout",
     "output_type": "stream",
     "text": [
      "20\n",
      "10\n"
     ]
    },
    {
     "data": {
      "text/plain": [
       "10"
      ]
     },
     "execution_count": 12,
     "metadata": {},
     "output_type": "execute_result"
    }
   ],
   "source": [
    "yeniOrnek(20)"
   ]
  },
  {
   "cell_type": "code",
   "execution_count": 13,
   "id": "774e2c28",
   "metadata": {},
   "outputs": [
    {
     "data": {
      "text/plain": [
       "5"
      ]
     },
     "execution_count": 13,
     "metadata": {},
     "output_type": "execute_result"
    }
   ],
   "source": [
    "x"
   ]
  },
  {
   "cell_type": "code",
   "execution_count": 14,
   "id": "bedda722",
   "metadata": {},
   "outputs": [],
   "source": [
    "y = 5\n",
    "\n",
    "def yeniBirFonksiyon():\n",
    "    y = 10\n",
    "    print(y)"
   ]
  },
  {
   "cell_type": "code",
   "execution_count": 15,
   "id": "34f70b89",
   "metadata": {},
   "outputs": [
    {
     "name": "stdout",
     "output_type": "stream",
     "text": [
      "10\n"
     ]
    }
   ],
   "source": [
    "yeniBirFonksiyon()"
   ]
  },
  {
   "cell_type": "code",
   "execution_count": 16,
   "id": "ad1fecea",
   "metadata": {},
   "outputs": [
    {
     "data": {
      "text/plain": [
       "5"
      ]
     },
     "execution_count": 16,
     "metadata": {},
     "output_type": "execute_result"
    }
   ],
   "source": [
    "y"
   ]
  },
  {
   "cell_type": "code",
   "execution_count": 17,
   "id": "97b571fc",
   "metadata": {},
   "outputs": [],
   "source": [
    "z = 5\n",
    "\n",
    "def yepYeniFonksiyon():\n",
    "    global z\n",
    "    z = 10\n",
    "    print(z)"
   ]
  },
  {
   "cell_type": "code",
   "execution_count": 19,
   "id": "e071a449",
   "metadata": {},
   "outputs": [
    {
     "name": "stdout",
     "output_type": "stream",
     "text": [
      "10\n"
     ]
    }
   ],
   "source": [
    "yepYeniFonksiyon()"
   ]
  },
  {
   "cell_type": "code",
   "execution_count": 20,
   "id": "a2d9a26e",
   "metadata": {},
   "outputs": [
    {
     "data": {
      "text/plain": [
       "10"
      ]
     },
     "execution_count": 20,
     "metadata": {},
     "output_type": "execute_result"
    }
   ],
   "source": [
    "z"
   ]
  }
 ],
 "metadata": {
  "kernelspec": {
   "display_name": "Python 3 (ipykernel)",
   "language": "python",
   "name": "python3"
  },
  "language_info": {
   "codemirror_mode": {
    "name": "ipython",
    "version": 3
   },
   "file_extension": ".py",
   "mimetype": "text/x-python",
   "name": "python",
   "nbconvert_exporter": "python",
   "pygments_lexer": "ipython3",
   "version": "3.9.7"
  }
 },
 "nbformat": 4,
 "nbformat_minor": 5
}
