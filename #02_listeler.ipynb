{
 "cells": [
  {
   "cell_type": "code",
   "execution_count": 1,
   "id": "b76d9fec",
   "metadata": {},
   "outputs": [
    {
     "data": {
      "text/plain": [
       "'e'"
      ]
     },
     "execution_count": 1,
     "metadata": {},
     "output_type": "execute_result"
    }
   ],
   "source": [
    "isim = \"emirhan güngörmez\"\n",
    "isim[0]"
   ]
  },
  {
   "cell_type": "code",
   "execution_count": null,
   "id": "8d13461d",
   "metadata": {},
   "outputs": [],
   "source": [
    "#immutability, immutable, mutable"
   ]
  },
  {
   "cell_type": "code",
   "execution_count": 2,
   "id": "e8f1ca42",
   "metadata": {},
   "outputs": [
    {
     "data": {
      "text/plain": [
       "list"
      ]
     },
     "execution_count": 2,
     "metadata": {},
     "output_type": "execute_result"
    }
   ],
   "source": [
    "liste = [10,20,30,40,50]\n",
    "type(liste)"
   ]
  },
  {
   "cell_type": "code",
   "execution_count": 3,
   "id": "24ad57be",
   "metadata": {},
   "outputs": [
    {
     "data": {
      "text/plain": [
       "30"
      ]
     },
     "execution_count": 3,
     "metadata": {},
     "output_type": "execute_result"
    }
   ],
   "source": [
    "liste[2]"
   ]
  },
  {
   "cell_type": "code",
   "execution_count": 6,
   "id": "d1ee5ab2",
   "metadata": {},
   "outputs": [
    {
     "data": {
      "text/plain": [
       "[10, 20, 100, 40, 50]"
      ]
     },
     "execution_count": 6,
     "metadata": {},
     "output_type": "execute_result"
    }
   ],
   "source": [
    "liste[2] = 100\n",
    "liste"
   ]
  },
  {
   "cell_type": "code",
   "execution_count": 9,
   "id": "a15ba6af",
   "metadata": {},
   "outputs": [
    {
     "data": {
      "text/plain": [
       "[10, 20, 100, 40, 50, 30, 30, 30]"
      ]
     },
     "execution_count": 9,
     "metadata": {},
     "output_type": "execute_result"
    }
   ],
   "source": [
    "liste.append(30) #listeye 30'u ekler.\n",
    "liste"
   ]
  },
  {
   "cell_type": "code",
   "execution_count": 13,
   "id": "ebc9418d",
   "metadata": {},
   "outputs": [
    {
     "data": {
      "text/plain": [
       "8"
      ]
     },
     "execution_count": 13,
     "metadata": {},
     "output_type": "execute_result"
    }
   ],
   "source": [
    "len(liste) #listenin kaç elemandan oluştuğunu gösterir."
   ]
  },
  {
   "cell_type": "code",
   "execution_count": 12,
   "id": "c0c7e609",
   "metadata": {},
   "outputs": [
    {
     "data": {
      "text/plain": [
       "3"
      ]
     },
     "execution_count": 12,
     "metadata": {},
     "output_type": "execute_result"
    }
   ],
   "source": [
    "liste.count(30) #listede belli bir elemandan kaç tane olduğunu gösterir."
   ]
  },
  {
   "cell_type": "code",
   "execution_count": 14,
   "id": "6c887980",
   "metadata": {},
   "outputs": [
    {
     "data": {
      "text/plain": [
       "30"
      ]
     },
     "execution_count": 14,
     "metadata": {},
     "output_type": "execute_result"
    }
   ],
   "source": [
    "liste.pop() #son elemanı listeden atar."
   ]
  },
  {
   "cell_type": "code",
   "execution_count": 17,
   "id": "c42c67d0",
   "metadata": {},
   "outputs": [
    {
     "data": {
      "text/plain": [
       "[30, 30, 50, 40, 100, 20, 10]"
      ]
     },
     "execution_count": 17,
     "metadata": {},
     "output_type": "execute_result"
    }
   ],
   "source": [
    "liste.reverse() #listeyi tersine dizer.\n",
    "liste"
   ]
  },
  {
   "cell_type": "code",
   "execution_count": 19,
   "id": "9950e59e",
   "metadata": {},
   "outputs": [
    {
     "data": {
      "text/plain": [
       "[10, 20, 30, 30, 40, 50, 100]"
      ]
     },
     "execution_count": 19,
     "metadata": {},
     "output_type": "execute_result"
    }
   ],
   "source": [
    "liste.sort() #küçükten-büyüğe sıralama.\n",
    "liste"
   ]
  },
  {
   "cell_type": "code",
   "execution_count": 24,
   "id": "7efc78bf",
   "metadata": {},
   "outputs": [],
   "source": [
    "string_liste = [\"emir\",\"han\",\"gün\"]"
   ]
  },
  {
   "cell_type": "code",
   "execution_count": 25,
   "id": "0b500b48",
   "metadata": {},
   "outputs": [
    {
     "data": {
      "text/plain": [
       "['emir', 'han', 'gün', 'görmez']"
      ]
     },
     "execution_count": 25,
     "metadata": {},
     "output_type": "execute_result"
    }
   ],
   "source": [
    "string_liste.append(\"görmez\")\n",
    "string_liste"
   ]
  },
  {
   "cell_type": "code",
   "execution_count": 26,
   "id": "30542951",
   "metadata": {},
   "outputs": [],
   "source": [
    "baska_liste = [\"antic\",\"verse\"]"
   ]
  },
  {
   "cell_type": "code",
   "execution_count": 27,
   "id": "84f16dfd",
   "metadata": {},
   "outputs": [],
   "source": [
    "liste_toplama = string_liste + baska_liste"
   ]
  },
  {
   "cell_type": "code",
   "execution_count": 28,
   "id": "29fc051a",
   "metadata": {},
   "outputs": [
    {
     "data": {
      "text/plain": [
       "['emir', 'han', 'gün', 'görmez', 'antic', 'verse']"
      ]
     },
     "execution_count": 28,
     "metadata": {},
     "output_type": "execute_result"
    }
   ],
   "source": [
    "liste_toplama"
   ]
  },
  {
   "cell_type": "code",
   "execution_count": 29,
   "id": "265e4b6c",
   "metadata": {},
   "outputs": [
    {
     "data": {
      "text/plain": [
       "['antic', 'verse', 'antic', 'verse']"
      ]
     },
     "execution_count": 29,
     "metadata": {},
     "output_type": "execute_result"
    }
   ],
   "source": [
    "baska_liste * 2"
   ]
  },
  {
   "cell_type": "code",
   "execution_count": 30,
   "id": "c6a38269",
   "metadata": {},
   "outputs": [
    {
     "data": {
      "text/plain": [
       "['antic', 'emir', 'görmez', 'gün', 'han', 'verse']"
      ]
     },
     "execution_count": 30,
     "metadata": {},
     "output_type": "execute_result"
    }
   ],
   "source": [
    "liste_toplama.sort() #alfabetik sıralama.\n",
    "liste_toplama"
   ]
  },
  {
   "cell_type": "code",
   "execution_count": 31,
   "id": "c84a8194",
   "metadata": {},
   "outputs": [],
   "source": [
    "karisik_liste = [1,100,\"emir\",20,\"han\"]"
   ]
  },
  {
   "cell_type": "code",
   "execution_count": 32,
   "id": "63eb74e4",
   "metadata": {},
   "outputs": [],
   "source": [
    "#nested list -> iç içe geçmiş liste"
   ]
  },
  {
   "cell_type": "code",
   "execution_count": 35,
   "id": "2c36e786",
   "metadata": {},
   "outputs": [],
   "source": [
    "nested_list = [1,10,\"emir\",[\"a\",\"b\"],[\"han\",2,20]]"
   ]
  },
  {
   "cell_type": "code",
   "execution_count": 38,
   "id": "14954136",
   "metadata": {},
   "outputs": [
    {
     "data": {
      "text/plain": [
       "'han'"
      ]
     },
     "execution_count": 38,
     "metadata": {},
     "output_type": "execute_result"
    }
   ],
   "source": [
    "nested_list[4][0]"
   ]
  },
  {
   "cell_type": "code",
   "execution_count": 39,
   "id": "07498cf0",
   "metadata": {},
   "outputs": [],
   "source": [
    "#slicing"
   ]
  },
  {
   "cell_type": "code",
   "execution_count": 40,
   "id": "8c9be9a0",
   "metadata": {},
   "outputs": [],
   "source": [
    "numara_listesi = [0,1,2,3,4,5,6,7,8,9]"
   ]
  },
  {
   "cell_type": "code",
   "execution_count": 41,
   "id": "834fbb93",
   "metadata": {},
   "outputs": [
    {
     "data": {
      "text/plain": [
       "[3, 4, 5, 6, 7]"
      ]
     },
     "execution_count": 41,
     "metadata": {},
     "output_type": "execute_result"
    }
   ],
   "source": [
    "numara_listesi[3:8]"
   ]
  },
  {
   "cell_type": "code",
   "execution_count": 42,
   "id": "a7a21926",
   "metadata": {},
   "outputs": [
    {
     "data": {
      "text/plain": [
       "[0, 3, 6, 9]"
      ]
     },
     "execution_count": 42,
     "metadata": {},
     "output_type": "execute_result"
    }
   ],
   "source": [
    "numara_listesi[::3]"
   ]
  },
  {
   "cell_type": "code",
   "execution_count": null,
   "id": "15657c6c",
   "metadata": {},
   "outputs": [],
   "source": []
  }
 ],
 "metadata": {
  "kernelspec": {
   "display_name": "Python 3 (ipykernel)",
   "language": "python",
   "name": "python3"
  },
  "language_info": {
   "codemirror_mode": {
    "name": "ipython",
    "version": 3
   },
   "file_extension": ".py",
   "mimetype": "text/x-python",
   "name": "python",
   "nbconvert_exporter": "python",
   "pygments_lexer": "ipython3",
   "version": "3.9.7"
  }
 },
 "nbformat": 4,
 "nbformat_minor": 5
}
