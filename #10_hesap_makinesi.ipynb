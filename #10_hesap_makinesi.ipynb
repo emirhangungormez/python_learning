{
 "cells": [
  {
   "cell_type": "code",
   "execution_count": null,
   "id": "d73937b9",
   "metadata": {},
   "outputs": [],
   "source": [
    "def toplama(num1, num2):\n",
    "    return num1 + num2"
   ]
  },
  {
   "cell_type": "code",
   "execution_count": null,
   "id": "05ca3d3c",
   "metadata": {},
   "outputs": [],
   "source": [
    "a = int(input(\"ilk numarayı giriniz: \"))\n",
    "b = int(input(\"ikinci numarayı giriniz: \"))\n",
    "toplama(a,b)"
   ]
  },
  {
   "cell_type": "code",
   "execution_count": null,
   "id": "c28ea0de",
   "metadata": {},
   "outputs": [],
   "source": [
    "#hataları ele almak _ error handling"
   ]
  },
  {
   "cell_type": "code",
   "execution_count": null,
   "id": "689940e6",
   "metadata": {},
   "outputs": [],
   "source": [
    "# try & except & else & finally"
   ]
  },
  {
   "cell_type": "code",
   "execution_count": null,
   "id": "1488d141",
   "metadata": {},
   "outputs": [],
   "source": [
    "try:\n",
    "    a = int(input(\"ilk numarayı giriniz: \"))\n",
    "    b = int(input(\"ikinci numarayı giriniz: \"))\n",
    "    print(toplama(a,b))\n",
    "except:\n",
    "    print(\"lütfen doğru bir numara giriniz.\")"
   ]
  },
  {
   "cell_type": "code",
   "execution_count": null,
   "id": "329f43e9",
   "metadata": {},
   "outputs": [],
   "source": [
    "while True:\n",
    "    try:\n",
    "        yeni_int = int(input(\"numaranızı giriniz: \"))\n",
    "    except:\n",
    "        print(\"sanırsam yanlış numara girdiniz.\")\n",
    "        continue\n",
    "    else:\n",
    "        print(\"teşekkürler :)\")\n",
    "        break\n",
    "    finally: #her sonuçta çağrılır.\n",
    "        print(\"finally çağrıldı...\")"
   ]
  },
  {
   "cell_type": "code",
   "execution_count": null,
   "id": "fa489abf",
   "metadata": {},
   "outputs": [],
   "source": [
    "#hesap makinesi"
   ]
  },
  {
   "cell_type": "code",
   "execution_count": null,
   "id": "be561b0a",
   "metadata": {},
   "outputs": [],
   "source": [
    "def hesapla(x,y,islem):\n",
    "    if islem not in \"+-*/\":\n",
    "        return \"litfen işlemleri doğru seçinşz: + - * / \"\n",
    "    \n",
    "    if islem == \"+\":\n",
    "        return x+y\n",
    "    elif islem == \"-\":\n",
    "        return x-y\n",
    "    elif islem == \"*\":\n",
    "        return x*y\n",
    "    elif islem == \"/\":\n",
    "        return x/y\n",
    "        \n",
    "        \n",
    "while True:\n",
    "    try:\n",
    "        ilk = int(input(\"ilk numarayı giriniz: \")) \n",
    "        ikinci = int(input(\"ikinci numarayı giriniz: \")) \n",
    "        sonuc = input(\"işleminizi seçiniz: + - * / \")\n",
    "        print(hesapla(ilk,ikinci,sonuc))\n",
    "    except:\n",
    "        print(\"lütfen sayıları doğru giriniz.\")\n",
    "    else:\n",
    "        print(\"görüşmek üzere...\")\n",
    "        break"
   ]
  },
  {
   "cell_type": "code",
   "execution_count": null,
   "id": "ad362121",
   "metadata": {},
   "outputs": [],
   "source": []
  }
 ],
 "metadata": {
  "kernelspec": {
   "display_name": "Python 3 (ipykernel)",
   "language": "python",
   "name": "python3"
  },
  "language_info": {
   "codemirror_mode": {
    "name": "ipython",
    "version": 3
   },
   "file_extension": ".py",
   "mimetype": "text/x-python",
   "name": "python",
   "nbconvert_exporter": "python",
   "pygments_lexer": "ipython3",
   "version": "3.9.7"
  }
 },
 "nbformat": 4,
 "nbformat_minor": 5
}
