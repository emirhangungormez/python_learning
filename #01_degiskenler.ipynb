{
 "cells": [
  {
   "cell_type": "markdown",
   "id": "12a36910",
   "metadata": {},
   "source": [
    "Siber güvenlik eğitimi içerisinde temel python bölümüne başladık."
   ]
  },
  {
   "cell_type": "code",
   "execution_count": 2,
   "id": "973220dc",
   "metadata": {},
   "outputs": [
    {
     "name": "stdout",
     "output_type": "stream",
     "text": [
      "I'm Cyber Security Researcher\n"
     ]
    }
   ],
   "source": [
    "print(\"I'm Cyber Security Researcher\")"
   ]
  },
  {
   "cell_type": "code",
   "execution_count": 3,
   "id": "fcc8d690",
   "metadata": {},
   "outputs": [
    {
     "data": {
      "text/plain": [
       "20"
      ]
     },
     "execution_count": 3,
     "metadata": {},
     "output_type": "execute_result"
    }
   ],
   "source": [
    "11+9"
   ]
  },
  {
   "cell_type": "code",
   "execution_count": 4,
   "id": "72ce42ce",
   "metadata": {},
   "outputs": [
    {
     "data": {
      "text/plain": [
       "2"
      ]
     },
     "execution_count": 4,
     "metadata": {},
     "output_type": "execute_result"
    }
   ],
   "source": [
    "11-9"
   ]
  },
  {
   "cell_type": "code",
   "execution_count": 5,
   "id": "c95dde35",
   "metadata": {},
   "outputs": [
    {
     "data": {
      "text/plain": [
       "99"
      ]
     },
     "execution_count": 5,
     "metadata": {},
     "output_type": "execute_result"
    }
   ],
   "source": [
    "11*9"
   ]
  },
  {
   "cell_type": "code",
   "execution_count": 6,
   "id": "2229501f",
   "metadata": {},
   "outputs": [
    {
     "data": {
      "text/plain": [
       "1.2222222222222223"
      ]
     },
     "execution_count": 6,
     "metadata": {},
     "output_type": "execute_result"
    }
   ],
   "source": [
    "11/9"
   ]
  },
  {
   "cell_type": "code",
   "execution_count": 8,
   "id": "a704bfde",
   "metadata": {},
   "outputs": [
    {
     "data": {
      "text/plain": [
       "8"
      ]
     },
     "execution_count": 8,
     "metadata": {},
     "output_type": "execute_result"
    }
   ],
   "source": [
    "2**3"
   ]
  },
  {
   "cell_type": "markdown",
   "id": "4900321b",
   "metadata": {},
   "source": [
    "kullanici_yasi -> snake_case\n",
    "kullaniciYasi -> camelCase"
   ]
  },
  {
   "cell_type": "code",
   "execution_count": 10,
   "id": "3aefe76a",
   "metadata": {},
   "outputs": [
    {
     "data": {
      "text/plain": [
       "40"
      ]
     },
     "execution_count": 10,
     "metadata": {},
     "output_type": "execute_result"
    }
   ],
   "source": [
    "kullanici_yasi = 20 \n",
    "kullanici_yasi * 2"
   ]
  },
  {
   "cell_type": "code",
   "execution_count": null,
   "id": "c476a3cc",
   "metadata": {},
   "outputs": [],
   "source": [
    "r = 10\n",
    "dairenin_cevresi = 2*3.14*r"
   ]
  },
  {
   "cell_type": "code",
   "execution_count": null,
   "id": "223840e2",
   "metadata": {},
   "outputs": [],
   "source": [
    "#Veri Tipleri"
   ]
  },
  {
   "cell_type": "code",
   "execution_count": 15,
   "id": "9f33e9d1",
   "metadata": {},
   "outputs": [
    {
     "data": {
      "text/plain": [
       "int"
      ]
     },
     "execution_count": 15,
     "metadata": {},
     "output_type": "execute_result"
    }
   ],
   "source": [
    "x = 10\n",
    "type(x) # python'da tanımlı bir fonksyondur. veri tipini gösterir."
   ]
  },
  {
   "cell_type": "code",
   "execution_count": null,
   "id": "22e7fa88",
   "metadata": {},
   "outputs": [],
   "source": [
    "#integer -> tam sayı"
   ]
  },
  {
   "cell_type": "code",
   "execution_count": 16,
   "id": "4a3ff12e",
   "metadata": {},
   "outputs": [
    {
     "data": {
      "text/plain": [
       "float"
      ]
     },
     "execution_count": 16,
     "metadata": {},
     "output_type": "execute_result"
    }
   ],
   "source": [
    "y = 0.5\n",
    "type(y)"
   ]
  },
  {
   "cell_type": "code",
   "execution_count": 14,
   "id": "1cea60f0",
   "metadata": {},
   "outputs": [],
   "source": [
    "#float -> kesirli sayı "
   ]
  },
  {
   "cell_type": "code",
   "execution_count": 17,
   "id": "aaeeded4",
   "metadata": {},
   "outputs": [
    {
     "data": {
      "text/plain": [
       "1"
      ]
     },
     "execution_count": 17,
     "metadata": {},
     "output_type": "execute_result"
    }
   ],
   "source": [
    "10 % 3 # kalan bulmaya yarar."
   ]
  },
  {
   "cell_type": "code",
   "execution_count": 18,
   "id": "0d3567de",
   "metadata": {},
   "outputs": [
    {
     "name": "stdout",
     "output_type": "stream",
     "text": [
      "lütfen yaşınızı giriniz: 20\n"
     ]
    }
   ],
   "source": [
    "yas = input(\"lütfen yaşınızı giriniz: \")\n",
    "#input fonksiyonu dışarıdan veri alır."
   ]
  },
  {
   "cell_type": "code",
   "execution_count": 19,
   "id": "3bdc110d",
   "metadata": {},
   "outputs": [
    {
     "data": {
      "text/plain": [
       "'202020'"
      ]
     },
     "execution_count": 19,
     "metadata": {},
     "output_type": "execute_result"
    }
   ],
   "source": [
    "yas * 3 #veri tipi string olduğundan yan yana yazdırdı, çarpma işlemini yapmadı."
   ]
  },
  {
   "cell_type": "code",
   "execution_count": 20,
   "id": "bf78d446",
   "metadata": {},
   "outputs": [
    {
     "data": {
      "text/plain": [
       "str"
      ]
     },
     "execution_count": 20,
     "metadata": {},
     "output_type": "execute_result"
    }
   ],
   "source": [
    "type(yas)"
   ]
  },
  {
   "cell_type": "code",
   "execution_count": null,
   "id": "5532852f",
   "metadata": {},
   "outputs": [],
   "source": [
    "#string -> metin"
   ]
  },
  {
   "cell_type": "code",
   "execution_count": 21,
   "id": "2a05fbf8",
   "metadata": {},
   "outputs": [
    {
     "data": {
      "text/plain": [
       "'emiremiremir'"
      ]
     },
     "execution_count": 21,
     "metadata": {},
     "output_type": "execute_result"
    }
   ],
   "source": [
    "x = \"emir\"\n",
    "x * 3 "
   ]
  },
  {
   "cell_type": "code",
   "execution_count": 22,
   "id": "639ee817",
   "metadata": {},
   "outputs": [
    {
     "data": {
      "text/plain": [
       "'Emir'"
      ]
     },
     "execution_count": 22,
     "metadata": {},
     "output_type": "execute_result"
    }
   ],
   "source": [
    "x.capitalize() #ilk harfi büyültür."
   ]
  },
  {
   "cell_type": "code",
   "execution_count": 23,
   "id": "48701ad8",
   "metadata": {},
   "outputs": [
    {
     "data": {
      "text/plain": [
       "True"
      ]
     },
     "execution_count": 23,
     "metadata": {},
     "output_type": "execute_result"
    }
   ],
   "source": [
    "x.endswith(\"r\") #değerin ne ile bittiğini kontrol eder."
   ]
  },
  {
   "cell_type": "code",
   "execution_count": 24,
   "id": "5a1537fd",
   "metadata": {},
   "outputs": [
    {
     "data": {
      "text/plain": [
       "True"
      ]
     },
     "execution_count": 24,
     "metadata": {},
     "output_type": "execute_result"
    }
   ],
   "source": [
    "x.islower() #bütün harflerin küçük olduğunu kontrol eder."
   ]
  },
  {
   "cell_type": "code",
   "execution_count": 25,
   "id": "f2d8fa50",
   "metadata": {},
   "outputs": [
    {
     "data": {
      "text/plain": [
       "'emir'"
      ]
     },
     "execution_count": 25,
     "metadata": {},
     "output_type": "execute_result"
    }
   ],
   "source": [
    "x.lower() #tüm harfleri küçültür."
   ]
  },
  {
   "cell_type": "code",
   "execution_count": 26,
   "id": "a30ecd63",
   "metadata": {},
   "outputs": [
    {
     "data": {
      "text/plain": [
       "'EMIR'"
      ]
     },
     "execution_count": 26,
     "metadata": {},
     "output_type": "execute_result"
    }
   ],
   "source": [
    "x.upper() #tüm harfleri büyültür. "
   ]
  },
  {
   "cell_type": "code",
   "execution_count": 27,
   "id": "4ac8c999",
   "metadata": {},
   "outputs": [
    {
     "data": {
      "text/plain": [
       "60"
      ]
     },
     "execution_count": 27,
     "metadata": {},
     "output_type": "execute_result"
    }
   ],
   "source": [
    "int(kullanici_yasi) * 3 #kullanıcı yaşını int yapar."
   ]
  },
  {
   "cell_type": "code",
   "execution_count": 28,
   "id": "81f42e38",
   "metadata": {},
   "outputs": [
    {
     "data": {
      "text/plain": [
       "7"
      ]
     },
     "execution_count": 28,
     "metadata": {},
     "output_type": "execute_result"
    }
   ],
   "source": [
    "len(\"emirhan\") #metnin karakter sayısını belirtir. "
   ]
  },
  {
   "cell_type": "code",
   "execution_count": null,
   "id": "38c89fc7",
   "metadata": {},
   "outputs": [],
   "source": [
    "#string'lerde index"
   ]
  },
  {
   "cell_type": "code",
   "execution_count": 29,
   "id": "cbc9dbad",
   "metadata": {},
   "outputs": [
    {
     "data": {
      "text/plain": [
       "'e'"
      ]
     },
     "execution_count": 29,
     "metadata": {},
     "output_type": "execute_result"
    }
   ],
   "source": [
    "benim_tam_ismim = \"emirhan güngörmez\"\n",
    "benim_tam_ismim[0] #0. index'i getirir, ilk harfi getirir."
   ]
  },
  {
   "cell_type": "code",
   "execution_count": null,
   "id": "4155e974",
   "metadata": {},
   "outputs": [],
   "source": [
    "benim_tam_ismim[-1] #metnin son harfini getirir."
   ]
  },
  {
   "cell_type": "code",
   "execution_count": null,
   "id": "25f6147e",
   "metadata": {},
   "outputs": [],
   "source": [
    "#starting inde - stopping index - slicing"
   ]
  },
  {
   "cell_type": "code",
   "execution_count": 31,
   "id": "35414bc8",
   "metadata": {},
   "outputs": [
    {
     "data": {
      "text/plain": [
       "'iber güv'"
      ]
     },
     "execution_count": 31,
     "metadata": {},
     "output_type": "execute_result"
    }
   ],
   "source": [
    "y = \"siber güvenlik eğitimi\"\n",
    "y[1:9]"
   ]
  },
  {
   "cell_type": "code",
   "execution_count": null,
   "id": "1ed11e91",
   "metadata": {},
   "outputs": [],
   "source": [
    "#step size"
   ]
  },
  {
   "cell_type": "code",
   "execution_count": 34,
   "id": "d4e8309c",
   "metadata": {},
   "outputs": [
    {
     "data": {
      "text/plain": [
       "'sbrgvni ğtm'"
      ]
     },
     "execution_count": 34,
     "metadata": {},
     "output_type": "execute_result"
    }
   ],
   "source": [
    "y[::2] #ikişer ikişer atlayarak okuma yapar."
   ]
  },
  {
   "cell_type": "code",
   "execution_count": 35,
   "id": "fe7b3a39",
   "metadata": {},
   "outputs": [
    {
     "data": {
      "text/plain": [
       "'imitiğe kilnevüg rebis'"
      ]
     },
     "execution_count": 35,
     "metadata": {},
     "output_type": "execute_result"
    }
   ],
   "source": [
    "y[::-1] #metni tersten yazdırır."
   ]
  },
  {
   "cell_type": "code",
   "execution_count": null,
   "id": "8a66868c",
   "metadata": {},
   "outputs": [],
   "source": []
  }
 ],
 "metadata": {
  "kernelspec": {
   "display_name": "Python 3 (ipykernel)",
   "language": "python",
   "name": "python3"
  },
  "language_info": {
   "codemirror_mode": {
    "name": "ipython",
    "version": 3
   },
   "file_extension": ".py",
   "mimetype": "text/x-python",
   "name": "python",
   "nbconvert_exporter": "python",
   "pygments_lexer": "ipython3",
   "version": "3.9.7"
  }
 },
 "nbformat": 4,
 "nbformat_minor": 5
}
